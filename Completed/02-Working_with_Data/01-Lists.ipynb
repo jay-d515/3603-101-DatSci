{
  "cells": [
    {
      "cell_type": "markdown",
      "id": "47f2636f",
      "metadata": {
        "id": "47f2636f"
      },
      "source": [
        "# 📘 01 - Python Lists\n",
        "\n",
        "Explore how to use lists to store and manipulate data."
      ]
    },
    {
      "cell_type": "markdown",
      "id": "d5e389b6",
      "metadata": {
        "id": "d5e389b6"
      },
      "source": [
        "## ✅ Learning Goals\n",
        "- Create and modify Python lists\n",
        "- Access elements using indexing\n",
        "- Use list methods like `append()`, `remove()`, and `sort()`"
      ]
    },
    {
      "cell_type": "code",
      "execution_count": 1,
      "id": "9244ef55",
      "metadata": {
        "id": "9244ef55",
        "outputId": "a6c5d0cd-d605-4c32-caa8-542493e640d2",
        "colab": {
          "base_uri": "https://localhost:8080/"
        }
      },
      "outputs": [
        {
          "output_type": "stream",
          "name": "stdout",
          "text": [
            "[10, 20, 30, 40, 50]\n"
          ]
        }
      ],
      "source": [
        "# 🔧 Create a List\n",
        "my_list = [10, 20, 30, 40, 50]\n",
        "print(my_list)"
      ]
    },
    {
      "cell_type": "code",
      "execution_count": 2,
      "id": "e767a048",
      "metadata": {
        "id": "e767a048",
        "outputId": "ae7b7daa-0271-41dd-80f2-25d18932ffdb",
        "colab": {
          "base_uri": "https://localhost:8080/"
        }
      },
      "outputs": [
        {
          "output_type": "stream",
          "name": "stdout",
          "text": [
            "First item: 10\n",
            "Last item: 50\n"
          ]
        }
      ],
      "source": [
        "# 🎯 Access Elements\n",
        "print('First item:', my_list[0])\n",
        "print('Last item:', my_list[-1])"
      ]
    },
    {
      "cell_type": "code",
      "execution_count": 4,
      "id": "4d9b40bd",
      "metadata": {
        "id": "4d9b40bd",
        "outputId": "44b090d3-e4ec-4afd-c309-db2c39cf449d",
        "colab": {
          "base_uri": "https://localhost:8080/"
        }
      },
      "outputs": [
        {
          "output_type": "stream",
          "name": "stdout",
          "text": [
            "[10, 20, 40, 50, 60]\n"
          ]
        }
      ],
      "source": [
        "# ➕ Modify List\n",
        "my_list.append(60)\n",
        "my_list.remove(30)\n",
        "print(my_list)"
      ]
    },
    {
      "cell_type": "code",
      "execution_count": 5,
      "id": "55eff36d",
      "metadata": {
        "id": "55eff36d",
        "outputId": "4c91798c-3a3d-4371-d2fa-834b79a30cb5",
        "colab": {
          "base_uri": "https://localhost:8080/"
        }
      },
      "outputs": [
        {
          "output_type": "stream",
          "name": "stdout",
          "text": [
            "10\n",
            "20\n",
            "40\n",
            "50\n",
            "60\n"
          ]
        }
      ],
      "source": [
        "# 🔁 Loop Through List\n",
        "for item in my_list:\n",
        "    print(item)"
      ]
    },
    {
      "cell_type": "markdown",
      "id": "efa1162a",
      "metadata": {
        "id": "efa1162a"
      },
      "source": [
        "## ✏️ Your Turn\n",
        "Create your own list of 5 favorite movies and sort them alphabetically."
      ]
    },
    {
      "cell_type": "code",
      "source": [
        "# creates a list of my 5 favorite movies\n",
        "my_movie_list = ['Inside Out 2', 'Jujutsu Kaisen 0', 'The Incredibles', 'KPOP Demon Hunters', 'Spider-Man: Across the Spider-verse']\n",
        "print(my_movie_list)"
      ],
      "metadata": {
        "id": "bVPVZRSAFGE_",
        "outputId": "b9f7c39d-5a82-4752-92c0-665b61286f74",
        "colab": {
          "base_uri": "https://localhost:8080/"
        }
      },
      "id": "bVPVZRSAFGE_",
      "execution_count": 25,
      "outputs": [
        {
          "output_type": "stream",
          "name": "stdout",
          "text": [
            "['Inside Out 2', 'Jujutsu Kaisen 0', 'The Incredibles', 'KPOP Demon Hunters', 'Spider-Man: Across the Spider-verse']\n"
          ]
        }
      ]
    },
    {
      "cell_type": "code",
      "source": [
        "# sorts the list of movies in alphabetical order and prints it\n",
        "for movie in sorted(my_movie_list):\n",
        "  print(movie)"
      ],
      "metadata": {
        "id": "B3I6pZp4GXK_",
        "outputId": "0e4eb5a3-13bf-46e1-f6dc-bf5c720675ed",
        "colab": {
          "base_uri": "https://localhost:8080/"
        }
      },
      "id": "B3I6pZp4GXK_",
      "execution_count": 26,
      "outputs": [
        {
          "output_type": "stream",
          "name": "stdout",
          "text": [
            "Inside Out 2\n",
            "Jujutsu Kaisen 0\n",
            "KPOP Demon Hunters\n",
            "Spider-Man: Across the Spider-verse\n",
            "The Incredibles\n"
          ]
        }
      ]
    }
  ],
  "metadata": {
    "colab": {
      "provenance": []
    },
    "language_info": {
      "name": "python"
    },
    "kernelspec": {
      "name": "python3",
      "display_name": "Python 3"
    }
  },
  "nbformat": 4,
  "nbformat_minor": 5
}