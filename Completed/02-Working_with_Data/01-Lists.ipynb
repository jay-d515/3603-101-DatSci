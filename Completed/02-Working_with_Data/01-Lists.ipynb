{
  "cells": [
    {
      "cell_type": "markdown",
      "id": "47f2636f",
      "metadata": {
        "id": "47f2636f"
      },
      "source": [
        "# 📘 01 - Python Lists\n",
        "\n",
        "Explore how to use lists to store and manipulate data."
      ]
    },
    {
      "cell_type": "markdown",
      "id": "d5e389b6",
      "metadata": {
        "id": "d5e389b6"
      },
      "source": [
        "## ✅ Learning Goals\n",
        "- Create and modify Python lists\n",
        "- Access elements using indexing\n",
        "- Use list methods like `append()`, `remove()`, and `sort()`"
      ]
    },
    {
      "cell_type": "code",
      "execution_count": 1,
      "id": "9244ef55",
      "metadata": {
        "id": "9244ef55",
        "outputId": "071170ee-5598-4251-9681-a113f6118748",
        "colab": {
          "base_uri": "https://localhost:8080/"
        }
      },
      "outputs": [
        {
          "output_type": "stream",
          "name": "stdout",
          "text": [
            "[10, 20, 30, 40, 50]\n"
          ]
        }
      ],
      "source": [
        "# 🔧 Create a List\n",
        "my_list = [10, 20, 30, 40, 50]\n",
        "print(my_list)"
      ]
    },
    {
      "cell_type": "code",
      "execution_count": 2,
      "id": "e767a048",
      "metadata": {
        "id": "e767a048",
        "outputId": "328201be-e060-4cd2-c8ba-aeb23e73f2f0",
        "colab": {
          "base_uri": "https://localhost:8080/"
        }
      },
      "outputs": [
        {
          "output_type": "stream",
          "name": "stdout",
          "text": [
            "First item: 10\n",
            "Last item: 50\n"
          ]
        }
      ],
      "source": [
        "# 🎯 Access Elements\n",
        "print('First item:', my_list[0])\n",
        "print('Last item:', my_list[-1])"
      ]
    },
    {
      "cell_type": "code",
      "execution_count": 3,
      "id": "4d9b40bd",
      "metadata": {
        "id": "4d9b40bd",
        "outputId": "aa655cbb-453c-439c-e402-23e71c7079ae",
        "colab": {
          "base_uri": "https://localhost:8080/"
        }
      },
      "outputs": [
        {
          "output_type": "stream",
          "name": "stdout",
          "text": [
            "[10, 20, 40, 50, 60]\n"
          ]
        }
      ],
      "source": [
        "# ➕ Modify List\n",
        "my_list.append(60)\n",
        "my_list.remove(30)\n",
        "print(my_list)"
      ]
    },
    {
      "cell_type": "code",
      "execution_count": 4,
      "id": "55eff36d",
      "metadata": {
        "id": "55eff36d",
        "outputId": "88e375b7-75b1-4bb2-dc18-cd28b0b36489",
        "colab": {
          "base_uri": "https://localhost:8080/"
        }
      },
      "outputs": [
        {
          "output_type": "stream",
          "name": "stdout",
          "text": [
            "10\n",
            "20\n",
            "40\n",
            "50\n",
            "60\n"
          ]
        }
      ],
      "source": [
        "# 🔁 Loop Through List\n",
        "for item in my_list:\n",
        "    print(item)"
      ]
    },
    {
      "cell_type": "markdown",
      "id": "efa1162a",
      "metadata": {
        "id": "efa1162a"
      },
      "source": [
        "## ✏️ Your Turn\n",
        "Create your own list of 5 favorite movies and sort them alphabetically."
      ]
    },
    {
      "cell_type": "markdown",
      "source": [
        "```\n",
        "# Name: Jadyn Dangerfield\n",
        "# Assignment: 01-Lists\n",
        "# Description:\n",
        "\n",
        "# This code creates a list of my favorite movies and sorts them alphabetically.\n",
        "```\n",
        "\n"
      ],
      "metadata": {
        "id": "lgpgIT0JkORQ"
      },
      "id": "lgpgIT0JkORQ"
    },
    {
      "cell_type": "code",
      "source": [
        "# creates a list of my 5 favorite movies\n",
        "movie_list = ['Inside Out 2', 'Jujutsu Kaisen 0', 'The Incredibles', 'KPOP Demon Hunters', 'Spider-Man: Across the Spider-Verse']\n",
        "print(movie_list)"
      ],
      "metadata": {
        "id": "pcLAd7abhhGa",
        "outputId": "d337baa1-8f39-4c84-8bd8-f7703b42988d",
        "colab": {
          "base_uri": "https://localhost:8080/"
        }
      },
      "id": "pcLAd7abhhGa",
      "execution_count": 5,
      "outputs": [
        {
          "output_type": "stream",
          "name": "stdout",
          "text": [
            "['Inside Out 2', 'Jujutsu Kaisen 0', 'The Incredibles', 'KPOP Demon Hunters', 'Spider-Man: Across the Spider-Verse']\n"
          ]
        }
      ]
    },
    {
      "cell_type": "code",
      "source": [
        "# accessing each individual movie in the list\n",
        "print('Movie 1: ', movie_list[0])\n",
        "print('Movie 2: ', movie_list[1])\n",
        "print('Movie 3: ', movie_list[2])\n",
        "print('Movie 4: ', movie_list[3])\n",
        "print('Movie 5: ', movie_list[4])"
      ],
      "metadata": {
        "id": "PP6mj3hNjrq-",
        "outputId": "5135c4aa-a13f-4cd7-d05b-9898d219d88b",
        "colab": {
          "base_uri": "https://localhost:8080/"
        }
      },
      "id": "PP6mj3hNjrq-",
      "execution_count": 6,
      "outputs": [
        {
          "output_type": "stream",
          "name": "stdout",
          "text": [
            "Movie 1:  Inside Out 2\n",
            "Movie 2:  Jujutsu Kaisen 0\n",
            "Movie 3:  The Incredibles\n",
            "Movie 4:  KPOP Demon Hunters\n",
            "Movie 5:  Spider-Man: Across the Spider-Verse\n"
          ]
        }
      ]
    },
    {
      "cell_type": "code",
      "source": [
        "# sorting the movies in alphabetical order\n",
        "for movie in sorted(movie_list):\n",
        "  print(movie)"
      ],
      "metadata": {
        "id": "ZCcaG_LdkD_U",
        "outputId": "39c1228e-e95f-4f08-d9af-82fb194d63ab",
        "colab": {
          "base_uri": "https://localhost:8080/"
        }
      },
      "id": "ZCcaG_LdkD_U",
      "execution_count": 7,
      "outputs": [
        {
          "output_type": "stream",
          "name": "stdout",
          "text": [
            "Inside Out 2\n",
            "Jujutsu Kaisen 0\n",
            "KPOP Demon Hunters\n",
            "Spider-Man: Across the Spider-Verse\n",
            "The Incredibles\n"
          ]
        }
      ]
    }
  ],
  "metadata": {
    "colab": {
      "provenance": []
    },
    "language_info": {
      "name": "python"
    },
    "kernelspec": {
      "name": "python3",
      "display_name": "Python 3"
    }
  },
  "nbformat": 4,
  "nbformat_minor": 5
}